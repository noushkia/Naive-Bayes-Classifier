{
 "cells": [
  {
   "cell_type": "markdown",
   "id": "bd3dc7ae",
   "metadata": {},
   "source": [
    "\n",
    "<h1> Computer Assignment 3 Report </h1>\n",
    "<h2> Artificial Intelligence Course - University of Tehran - Fall 1400 </h2>\n",
    "<h2> Naive Bayes Classifier </h2>\n",
    "<h3> Name: Kianoush Arshi <br>\n",
    " Student ID: 810198438 </h3>"
   ]
  },
  {
   "cell_type": "markdown",
   "id": "4d4513b8",
   "metadata": {},
   "source": [
    "In this assignment, we'll be using a naive bayes classifier to classify a dataset of advertisements. There are six different classes:<br>\n",
    "<li>Vehicles</li>\n",
    "<li>Electronic devices</li>\n",
    "<li>Businesses</li>\n",
    "<li>For the home</li>\n",
    "<li>Personal</li>\n",
    "<li>Leisure & Hobbies</li>"
   ]
  },
  {
   "cell_type": "code",
   "execution_count": 1,
   "id": "a6478d52",
   "metadata": {},
   "outputs": [],
   "source": [
    "import pandas as pd\n",
    "import numpy as np\n",
    "from operator import itemgetter\n",
    "from matplotlib import pyplot as plt\n",
    "from bidi.algorithm import get_display\n",
    "from arabic_reshaper import reshape\n",
    "from __future__ import unicode_literals\n",
    "from hazm import *\n",
    "from itertools import chain\n",
    "import codecs"
   ]
  },
  {
   "cell_type": "code",
   "execution_count": 2,
   "id": "41daf0c8",
   "metadata": {},
   "outputs": [
    {
     "data": {
      "text/html": [
       "<div>\n",
       "<style scoped>\n",
       "    .dataframe tbody tr th:only-of-type {\n",
       "        vertical-align: middle;\n",
       "    }\n",
       "\n",
       "    .dataframe tbody tr th {\n",
       "        vertical-align: top;\n",
       "    }\n",
       "\n",
       "    .dataframe thead th {\n",
       "        text-align: right;\n",
       "    }\n",
       "</style>\n",
       "<table border=\"1\" class=\"dataframe\">\n",
       "  <thead>\n",
       "    <tr style=\"text-align: right;\">\n",
       "      <th></th>\n",
       "      <th>title</th>\n",
       "      <th>description</th>\n",
       "      <th>categories</th>\n",
       "    </tr>\n",
       "  </thead>\n",
       "  <tbody>\n",
       "    <tr>\n",
       "      <th>0</th>\n",
       "      <td>بلبل خرمایی</td>\n",
       "      <td>سه عدد بلبل خرمایی سه ماهه.از وقتی جوجه بودن خ...</td>\n",
       "      <td>leisure-hobbies</td>\n",
       "    </tr>\n",
       "    <tr>\n",
       "      <th>1</th>\n",
       "      <td>عینک اسکی در حد</td>\n",
       "      <td>عینک اسکی دبل لنز مارک يو وكس  در حد نو اصلی م...</td>\n",
       "      <td>leisure-hobbies</td>\n",
       "    </tr>\n",
       "    <tr>\n",
       "      <th>2</th>\n",
       "      <td>تکیه سر تویوتا پرادو</td>\n",
       "      <td>پارچه ای سالم و تمیز.</td>\n",
       "      <td>vehicles</td>\n",
       "    </tr>\n",
       "    <tr>\n",
       "      <th>3</th>\n",
       "      <td>مجسمه کریستال24%</td>\n",
       "      <td>مجسمه دکوری کریستال بالرین Rcr24%</td>\n",
       "      <td>for-the-home</td>\n",
       "    </tr>\n",
       "    <tr>\n",
       "      <th>4</th>\n",
       "      <td>کیف و ساک</td>\n",
       "      <td>هر 2 کاملا تمیز هستند</td>\n",
       "      <td>personal</td>\n",
       "    </tr>\n",
       "    <tr>\n",
       "      <th>...</th>\n",
       "      <td>...</td>\n",
       "      <td>...</td>\n",
       "      <td>...</td>\n",
       "    </tr>\n",
       "    <tr>\n",
       "      <th>10195</th>\n",
       "      <td>ان هاش 85</td>\n",
       "      <td>نیمه دوم همه چی به شرط در حد خشک 260تا کار</td>\n",
       "      <td>vehicles</td>\n",
       "    </tr>\n",
       "    <tr>\n",
       "      <th>10196</th>\n",
       "      <td>405 دوگانه کارخانه. تمیز</td>\n",
       "      <td>فابریک 4 حلقه لاستیک 205 نو بیمه یکسال تخفیف ب...</td>\n",
       "      <td>vehicles</td>\n",
       "    </tr>\n",
       "    <tr>\n",
       "      <th>10197</th>\n",
       "      <td>بخاری گازی دودکش دار پلار</td>\n",
       "      <td>بخاری نو و بسیار تمیز هستش\\nبا مشتری واقعی کنا...</td>\n",
       "      <td>for-the-home</td>\n",
       "    </tr>\n",
       "    <tr>\n",
       "      <th>10198</th>\n",
       "      <td>نر کله برنجی چتری</td>\n",
       "      <td>سلام به دلیل کمبود جا واسباب کشی به کمترین قیم...</td>\n",
       "      <td>leisure-hobbies</td>\n",
       "    </tr>\n",
       "    <tr>\n",
       "      <th>10199</th>\n",
       "      <td>پراید111سفید</td>\n",
       "      <td>پراید111se\\nسفید.مدل93.درب جلو سمت شاگرد استوک...</td>\n",
       "      <td>vehicles</td>\n",
       "    </tr>\n",
       "  </tbody>\n",
       "</table>\n",
       "<p>10200 rows × 3 columns</p>\n",
       "</div>"
      ],
      "text/plain": [
       "                           title  \\\n",
       "0                    بلبل خرمایی   \n",
       "1                عینک اسکی در حد   \n",
       "2           تکیه سر تویوتا پرادو   \n",
       "3               مجسمه کریستال24%   \n",
       "4                      کیف و ساک   \n",
       "...                          ...   \n",
       "10195                  ان هاش 85   \n",
       "10196   405 دوگانه کارخانه. تمیز   \n",
       "10197  بخاری گازی دودکش دار پلار   \n",
       "10198          نر کله برنجی چتری   \n",
       "10199               پراید111سفید   \n",
       "\n",
       "                                             description       categories  \n",
       "0      سه عدد بلبل خرمایی سه ماهه.از وقتی جوجه بودن خ...  leisure-hobbies  \n",
       "1      عینک اسکی دبل لنز مارک يو وكس  در حد نو اصلی م...  leisure-hobbies  \n",
       "2                                  پارچه ای سالم و تمیز.         vehicles  \n",
       "3                      مجسمه دکوری کریستال بالرین Rcr24%     for-the-home  \n",
       "4                                  هر 2 کاملا تمیز هستند         personal  \n",
       "...                                                  ...              ...  \n",
       "10195         نیمه دوم همه چی به شرط در حد خشک 260تا کار         vehicles  \n",
       "10196  فابریک 4 حلقه لاستیک 205 نو بیمه یکسال تخفیف ب...         vehicles  \n",
       "10197  بخاری نو و بسیار تمیز هستش\\nبا مشتری واقعی کنا...     for-the-home  \n",
       "10198  سلام به دلیل کمبود جا واسباب کشی به کمترین قیم...  leisure-hobbies  \n",
       "10199  پراید111se\\nسفید.مدل93.درب جلو سمت شاگرد استوک...         vehicles  \n",
       "\n",
       "[10200 rows x 3 columns]"
      ]
     },
     "execution_count": 2,
     "metadata": {},
     "output_type": "execute_result"
    }
   ],
   "source": [
    "df = pd.read_csv(\"Data/divar_train.csv\")\n",
    "df"
   ]
  },
  {
   "cell_type": "markdown",
   "id": "ad338918",
   "metadata": {},
   "source": [
    "First, let's check the count of advertisements in each category:"
   ]
  },
  {
   "cell_type": "code",
   "execution_count": 3,
   "id": "6d0e8d7c",
   "metadata": {
    "scrolled": true
   },
   "outputs": [
    {
     "data": {
      "text/plain": [
       "leisure-hobbies       1700\n",
       "vehicles              1700\n",
       "for-the-home          1700\n",
       "personal              1700\n",
       "electronic-devices    1700\n",
       "businesses            1700\n",
       "Name: categories, dtype: int64"
      ]
     },
     "execution_count": 3,
     "metadata": {},
     "output_type": "execute_result"
    }
   ],
   "source": [
    "df['categories'].value_counts()"
   ]
  },
  {
   "cell_type": "markdown",
   "id": "4d634351",
   "metadata": {},
   "source": [
    "As mentioned in the project description, there are equal number of categories so ne resampling is needed."
   ]
  },
  {
   "cell_type": "markdown",
   "id": "f459c25a",
   "metadata": {},
   "source": [
    "<h2>Phase 1: Pre-processing the Data</h2>\n",
    "<p>In this phase, the dataset is edited so that it'll be able to be used efficiently and correctly in the future. The changes made to the dataset include:</p>\n",
    "<li>Stemming</li>\n",
    "<li>Lemmatizing</li>\n",
    "<li>Tokenizing</li>\n"
   ]
  },
  {
   "cell_type": "markdown",
   "id": "34e37995",
   "metadata": {},
   "source": [
    "<h3>Stemming and lemmatization</h3>"
   ]
  },
  {
   "cell_type": "code",
   "execution_count": 4,
   "id": "e98fdbae",
   "metadata": {},
   "outputs": [],
   "source": [
    "stemmer = Stemmer()\n",
    "normalizer = Normalizer()\n",
    "lemmatizer = Lemmatizer()"
   ]
  },
  {
   "cell_type": "code",
   "execution_count": 5,
   "id": "1f015d12",
   "metadata": {},
   "outputs": [
    {
     "name": "stdout",
     "output_type": "stream",
     "text": [
      "بلبل خرما\n",
      "خوابیدند\n",
      "خوابید\n",
      "خواب\n",
      "بخواب\n",
      "خوابید\n"
     ]
    }
   ],
   "source": [
    "print(stemmer.stem(df['title'][0]))\n",
    "print(stemmer.stem('خوابیدند'))\n",
    "print(stemmer.stem('خوابید'))\n",
    "print(stemmer.stem('خواب'))\n",
    "print(stemmer.stem('بخوابی'))\n",
    "print(stemmer.stem('خوابیدم'))"
   ]
  },
  {
   "cell_type": "markdown",
   "id": "73e50762",
   "metadata": {},
   "source": [
    "Stemmer reduces the words to the root word. This isn't very much useful for us since it removes some parts of the word."
   ]
  },
  {
   "cell_type": "code",
   "execution_count": 6,
   "id": "3eabfea6",
   "metadata": {},
   "outputs": [
    {
     "name": "stdout",
     "output_type": "stream",
     "text": [
      "بلبل خرمایی\n",
      "خوابید#خواب\n",
      "خوابید#خواب\n",
      "خواب\n",
      "خوابید#خواب\n",
      "خوابید#خواب\n"
     ]
    }
   ],
   "source": [
    "print(lemmatizer.lemmatize(df['title'][0]))\n",
    "print(lemmatizer.lemmatize('خوابیدند'))\n",
    "print(lemmatizer.lemmatize('خوابید'))\n",
    "print(lemmatizer.lemmatize('خواب'))\n",
    "print(lemmatizer.lemmatize('بخوابی'))\n",
    "print(lemmatizer.lemmatize('خوابیدم'))"
   ]
  },
  {
   "cell_type": "markdown",
   "id": "24cf12bb",
   "metadata": {},
   "source": [
    "Lemmatization is the process of grouping together the different inflected forms of a word so they can be analyzed as a single item. Lemmatization is similar to stemming but it brings context to the words. So it links words with similar meanings to one word. This is made possible by extracting principal parts of the verb. (bon e mazi # bon e mozare)\n",
    "Lemmatization is the preferred method over Stemming.<br>\n",
    "\n",
    "But for making use of lemmatization, we first need to tokenize the data:"
   ]
  },
  {
   "cell_type": "code",
   "execution_count": 7,
   "id": "9c5c390a",
   "metadata": {},
   "outputs": [
    {
     "name": "stdout",
     "output_type": "stream",
     "text": [
      "['بلبل', 'خرمایی']\n",
      "['سه', 'عدد', 'بلبل', 'خرمایی', 'سه', 'ماهه', '.', 'از', 'وقتی', 'جوجه', 'بودن', 'خودم', 'بزرگشون', 'کردم', 'اما', 'دستی', 'نیستن', 'واسه', 'همین', 'قیمت', 'پایین', 'دادم', '.', 'هر', 'سه', 'با', 'هم', '100', 'تومان', 'مقطوع', 'مقطوع']\n"
     ]
    }
   ],
   "source": [
    "print(word_tokenize(df['title'][0]))\n",
    "print(word_tokenize(df['description'][0]))"
   ]
  },
  {
   "cell_type": "markdown",
   "id": "db92f338",
   "metadata": {},
   "source": [
    "The word_tokenize() function will breaks the sentence into it's words.<br>\n",
    "This will prove useful in the future since we'll be using bag of words model in solving the problem."
   ]
  },
  {
   "cell_type": "code",
   "execution_count": 8,
   "id": "cf15bd68",
   "metadata": {},
   "outputs": [
    {
     "name": "stdout",
     "output_type": "stream",
     "text": [
      "خرمایی\n",
      "خرما\n"
     ]
    }
   ],
   "source": [
    "print(word_tokenize(df['title'][0])[1])\n",
    "print(lemmatizer.lemmatize(word_tokenize(df['title'][0])[1]))"
   ]
  },
  {
   "cell_type": "markdown",
   "id": "a7581ca0",
   "metadata": {},
   "source": [
    "We need to save stop words so that they are ignored. Also, some characters need to e removed and the data needs to be cleaned."
   ]
  },
  {
   "cell_type": "code",
   "execution_count": 9,
   "id": "565e7fa5",
   "metadata": {
    "scrolled": true
   },
   "outputs": [
    {
     "data": {
      "text/plain": [
       "['آخر',\n",
       " 'آخرها',\n",
       " 'آخه',\n",
       " 'آدمهاست',\n",
       " 'آرام',\n",
       " 'آرام آرام',\n",
       " 'آره',\n",
       " 'آری',\n",
       " 'آزادانه',\n",
       " 'آسان',\n",
       " 'آسیب پذیرند',\n",
       " 'آشنایند',\n",
       " 'آشکارا',\n",
       " 'آقا',\n",
       " 'آقای',\n",
       " 'آقایان',\n",
       " 'آمد',\n",
       " 'آمدن',\n",
       " 'آمده',\n",
       " 'آمرانه',\n",
       " 'آن',\n",
       " 'آن گاه',\n",
       " 'آنان',\n",
       " 'آنانی',\n",
       " 'آنجا',\n",
       " 'آنرا',\n",
       " 'آنطور',\n",
       " 'آنقدر',\n",
       " 'آنها',\n",
       " 'آنهاست']"
      ]
     },
     "execution_count": 9,
     "metadata": {},
     "output_type": "execute_result"
    }
   ],
   "source": [
    "stop_file = codecs.open('stop_words.txt', encoding='utf-8')\n",
    "stop_words = [lemmatizer.lemmatize(w) for w in stop_file.read().split('\\n') if w]\n",
    "\n",
    "stop_words.append('\\r')\n",
    "stop_words.append('\\n')\n",
    "\n",
    "stop_words = [x.strip() for x in stop_words]\n",
    "stop_words[20:50]"
   ]
  },
  {
   "cell_type": "markdown",
   "id": "4d34bba6",
   "metadata": {},
   "source": [
    "<h2>Phase 1: Problem Solving Process</h2>\n",
    "<p>In this phase, we aim for solving the problem using Naive Bayes. As mentioned previously, bag of words model will be used for solving the problem. The feature used for classifying the advertisements is the number of words of each category used in the advertisement. The base formula used for classifying advertisements is as follows:</p><br>\n",
    "\n",
    "$$P(c|x)=\\frac{P(x|c)P(c)}{P(x)}$$\n",
    "\n",
    "$x$: The word(s) detected<br>\n",
    "$c$: Advertisement class<br>\n",
    "$P(c|x)$: Probability of the current class being $c$ knowing that the word $x$ has appeared in the title and/or description. (Posterior)<br>\n",
    "$P(x|c)$: Probability of seeing word $x$ in a class description of type $c$ (Likelihood)<br>\n",
    "$P(c)$: Probability of seeing a book with genre $c$. This is equal for all genres since they all have occured the same number of times in the dataset. (Class Prior Probability)<br>\n",
    "$P(x)$: Probability of seeing word $x$ in the context(Predictor Prior Probability (Evidence))<br>\n",
    "Note that x can be viewed as multiple words which then we will have the fllwoing formula:<br>\n",
    "$$P(c|X)=P(x_1|c)P(x_2|c)...P(x_n|c)P(c)$$\n",
    "\n",
    "The process of solving this classifying problem is listeb below:<br>\n",
    "<li> Tokenize the words (this can be unigram, bigram or ngram)\n",
    "<li> Classify the tokenized words and calculate the given probabilities of the above formula (all except P(c|x) which will be tested on test dataset).\n",
    "<li> Test the classifier.\n",
    "<li> Calculate the accuracy.\n",
    "<li> Repeat until we get an adequate accuracy."
   ]
  },
  {
   "cell_type": "markdown",
   "id": "985ec318",
   "metadata": {},
   "source": [
    "Tokenizing the words:<br>\n",
    "First, we'll tokenize the title column and use that as our feature only.<br>\n",
    "We'll repeat this for description only and both title and description as features and choose the feature with best accuracy.<br>\n",
    "This part is related with Grouping Operations technique [1].<br>\n",
    "\n",
    "\n",
    "Bigrams and N-grams:<br>\n",
    "This part relates to Feature Splitting technique of feature engineering. To know more about this technique, visit source [1].<br>\n",
    "Note that using unigrams might increase inaccuracy of the model, for example check out the following snetences:<br>\n",
    "I left my phone in the room.<br>\n",
    "I'm left alone.<br>\n",
    "Left here has two meanings and we need to know more than one word in order to figure out what left means.<br>\n",
    "Persian example:<br>\n",
    "<br>شیر امید را خورد\n",
    "<br>امید شیر را خورد\n",
    "<br>\n",
    "This example is rather difficult! For this one, not only we need to check all the words, but also we need to check their order.<br>\n",
    "In the first sentence, شیر means lion and the sentence translates to \"The lion ate Omid\". <br>\n",
    "But in the second one, شیر means milk! The translation will be: \"Omid drank the milk\". <br>\n",
    "\n",
    "Extracting data from train dataset:<br>\n",
    "In this part we'll get the most occuring words in each category and store them in a dictionary so that we can use them for our test dataset.<br>\n",
    "We'll have a dictionary which will have the key of a word/words and value of their occurance in the dictionary for their category."
   ]
  },
  {
   "cell_type": "code",
   "execution_count": 10,
   "id": "0423fe1f",
   "metadata": {},
   "outputs": [],
   "source": [
    "def remove_stop_words(tokens: list()) -> list():\n",
    "    for word in tokens:\n",
    "        if word in stop_words:\n",
    "            tokens.remove(word)\n",
    "    return tokens\n",
    "\n",
    "def plot_frequent_words(cats_dict, cats_total):\n",
    "    categories = list(cats_total.keys())\n",
    "    figure, axis = plt.subplots(nrows=len(categories), ncols=1, figsize=(15,15), constrained_layout=True)\n",
    "    figure.supxlabel(\"Words in Ad\")\n",
    "    figure.supylabel(\"Occurance\")\n",
    "    for i in range(len(categories)):\n",
    "        res = dict(sorted(cats_dict[categories[i]].items(), key = itemgetter(1), reverse = True)[:6])\n",
    "        keys = res.keys()\n",
    "        values = res.values()\n",
    "        axis[i].bar([get_display(reshape(key)) for key in keys], values)\n",
    "        axis[i].set_title(categories[i])\n",
    "\n",
    "    plt.show()"
   ]
  },
  {
   "cell_type": "code",
   "execution_count": 11,
   "id": "ce3a6409",
   "metadata": {
    "scrolled": true
   },
   "outputs": [],
   "source": [
    "# Ngram is used to know how many consecutive words we need to check.\n",
    "# First we'll be only using title as our feature\n",
    "def count_words(ngrams=1, use=['title']):\n",
    "    # Total count of words in each category\n",
    "    cats_total = dict(zip(df['categories'].unique(), [0 for i in range(len(df['categories'].unique()))]))\n",
    "    print(cats_total)\n",
    "    # List of category dictionaries\n",
    "    cats_dict = dict(zip(df['categories'].unique(), [dict() for i in range(len(df['categories'].unique()))]))\n",
    "    print(cats_dict)\n",
    "    \n",
    "    # Now, let's count the words...\n",
    "    for ngram in range(1, ngrams+1):\n",
    "        for index, row in df.iterrows(): # HOW CAN I MAKE THIS BETTER???\n",
    "            tokens = list(chain.from_iterable([(remove_stop_words(word_tokenize(row[col_name]))) for col_name in use]))\n",
    "            for i in range(len(tokens) - ngram+1):\n",
    "                words = [lemmatizer.lemmatize(token) for token in tokens[i:i+ngram]]\n",
    "                if (len(words) > 1):\n",
    "                    ngram_word = ' '.join(words)\n",
    "                else:\n",
    "                    ngram_word = words[0]\n",
    "                category = row['categories']\n",
    "                cats_dict[category][ngram_word] = cats_dict[category].get(ngram_word, 0) + 1\n",
    "                cats_total[category] += 1\n",
    "                \n",
    "    for cat in df['categories'].unique():\n",
    "        cats_total[cat] -= cats_dict[cat]['.']\n",
    "        del cats_dict[cat]['.']\n",
    "                \n",
    "    return cats_dict, cats_total"
   ]
  },
  {
   "cell_type": "code",
   "execution_count": 12,
   "id": "62e0099c",
   "metadata": {
    "scrolled": true
   },
   "outputs": [
    {
     "name": "stdout",
     "output_type": "stream",
     "text": [
      "{'leisure-hobbies': 0, 'vehicles': 0, 'for-the-home': 0, 'personal': 0, 'electronic-devices': 0, 'businesses': 0}\n",
      "{'leisure-hobbies': {}, 'vehicles': {}, 'for-the-home': {}, 'personal': {}, 'electronic-devices': {}, 'businesses': {}}\n"
     ]
    },
    {
     "data": {
      "image/png": "[encoded data removed]",
      "text/plain": [
       "<Figure size 1080x1080 with 6 Axes>"
      ]
     },
     "metadata": {
      "needs_background": "light"
     },
     "output_type": "display_data"
    }
   ],
   "source": [
    "cats_dict, cats_total = count_words()\n",
    "# Finally, let's plot the  6 most frequent words in each category:\n",
    "plot_frequent_words(cats_dict, cats_total)"
   ]
  },
  {
   "cell_type": "code",
   "execution_count": 13,
   "id": "ae9dd589",
   "metadata": {},
   "outputs": [
    {
     "name": "stdout",
     "output_type": "stream",
     "text": [
      "{'leisure-hobbies': 0, 'vehicles': 0, 'for-the-home': 0, 'personal': 0, 'electronic-devices': 0, 'businesses': 0}\n",
      "{'leisure-hobbies': {}, 'vehicles': {}, 'for-the-home': {}, 'personal': {}, 'electronic-devices': {}, 'businesses': {}}\n"
     ]
    },
    {
     "data": {
      "image/png": "[encoded data removed]",
      "text/plain": [
       "<Figure size 1080x1080 with 6 Axes>"
      ]
     },
     "metadata": {
      "needs_background": "light"
     },
     "output_type": "display_data"
    }
   ],
   "source": [
    "# Now let's try it with bigram model:\n",
    "cats_dict, cats_total = count_words(ngrams=2)\n",
    "plot_frequent_words(cats_dict, cats_total)"
   ]
  },
  {
   "cell_type": "code",
   "execution_count": 14,
   "id": "7650fa7a",
   "metadata": {},
   "outputs": [
    {
     "name": "stdout",
     "output_type": "stream",
     "text": [
      "{'leisure-hobbies': 0, 'vehicles': 0, 'for-the-home': 0, 'personal': 0, 'electronic-devices': 0, 'businesses': 0}\n",
      "{'leisure-hobbies': {}, 'vehicles': {}, 'for-the-home': {}, 'personal': {}, 'electronic-devices': {}, 'businesses': {}}\n"
     ]
    },
    {
     "data": {
      "image/png": "[encoded data removed]",
      "text/plain": [
       "<Figure size 1080x1080 with 6 Axes>"
      ]
     },
     "metadata": {
      "needs_background": "light"
     },
     "output_type": "display_data"
    }
   ],
   "source": [
    "# And let's add description to the equation:\n",
    "cats_dict, cats_total = count_words(ngrams=1, use=[\"title\", \"description\"])\n",
    "plot_frequent_words(cats_dict, cats_total)"
   ]
  },
  {
   "cell_type": "markdown",
   "id": "43fb73c4",
   "metadata": {},
   "source": [
    "As you can see above, the word \"نو\" is the most occured word in both personal and for-the-home categories. so we should probably remove it.<br>\n",
    "Some other words are also used too much.<br>\n",
    "There is another problem which is related to lemmatizing, in the electronics category the most occured word is \"گوش\" which should be \"گوشی\" but since this word isn't very much used in other categories, we'll ignore it for now.\n"
   ]
  },
  {
   "cell_type": "code",
   "execution_count": 15,
   "id": "14f9fd83",
   "metadata": {},
   "outputs": [],
   "source": [
    "stop_words.append(\"نو\")\n",
    "stop_words.append(\"یک\")\n",
    "stop_words.append(\"قیمت\")\n",
    "stop_words.append(\"سالم\")"
   ]
  },
  {
   "cell_type": "code",
   "execution_count": 16,
   "id": "6e88c036",
   "metadata": {},
   "outputs": [
    {
     "name": "stdout",
     "output_type": "stream",
     "text": [
      "{'leisure-hobbies': 0, 'vehicles': 0, 'for-the-home': 0, 'personal': 0, 'electronic-devices': 0, 'businesses': 0}\n",
      "{'leisure-hobbies': {}, 'vehicles': {}, 'for-the-home': {}, 'personal': {}, 'electronic-devices': {}, 'businesses': {}}\n"
     ]
    },
    {
     "data": {
      "image/png": "[encoded data removed]",
      "text/plain": [
       "<Figure size 1080x1080 with 6 Axes>"
      ]
     },
     "metadata": {
      "needs_background": "light"
     },
     "output_type": "display_data"
    }
   ],
   "source": [
    "# Now, let's try again with the removed word:\n",
    "cats_dict, cats_total = count_words(ngrams=1, use=[\"title\", \"description\"])\n",
    "plot_frequent_words(cats_dict, cats_total)"
   ]
  },
  {
   "cell_type": "markdown",
   "id": "538698a2",
   "metadata": {},
   "source": [
    "Now, let's get the test file and start the classification"
   ]
  },
  {
   "cell_type": "code",
   "execution_count": 17,
   "id": "19a2c622",
   "metadata": {
    "scrolled": false
   },
   "outputs": [
    {
     "data": {
      "text/html": [
       "<div>\n",
       "<style scoped>\n",
       "    .dataframe tbody tr th:only-of-type {\n",
       "        vertical-align: middle;\n",
       "    }\n",
       "\n",
       "    .dataframe tbody tr th {\n",
       "        vertical-align: top;\n",
       "    }\n",
       "\n",
       "    .dataframe thead th {\n",
       "        text-align: right;\n",
       "    }\n",
       "</style>\n",
       "<table border=\"1\" class=\"dataframe\">\n",
       "  <thead>\n",
       "    <tr style=\"text-align: right;\">\n",
       "      <th></th>\n",
       "      <th>title</th>\n",
       "      <th>description</th>\n",
       "      <th>categories</th>\n",
       "    </tr>\n",
       "  </thead>\n",
       "  <tbody>\n",
       "    <tr>\n",
       "      <th>0</th>\n",
       "      <td>کیف مجلسی نو</td>\n",
       "      <td>کیف مجلسی نوی نو</td>\n",
       "      <td>personal</td>\n",
       "    </tr>\n",
       "    <tr>\n",
       "      <th>1</th>\n",
       "      <td>دیوار کوب نمدی تزیینی</td>\n",
       "      <td>مناسب برای جهاز عروس</td>\n",
       "      <td>for-the-home</td>\n",
       "    </tr>\n",
       "    <tr>\n",
       "      <th>2</th>\n",
       "      <td>دو تیکه بسیار بسیار تمیز و سالم</td>\n",
       "      <td>با کشوی مخفی و شیک</td>\n",
       "      <td>for-the-home</td>\n",
       "    </tr>\n",
       "    <tr>\n",
       "      <th>3</th>\n",
       "      <td>مودم</td>\n",
       "      <td>سلام مودم سالم با وسایلش،دیگه ب کارم نمیاد \\nم...</td>\n",
       "      <td>electronic-devices</td>\n",
       "    </tr>\n",
       "    <tr>\n",
       "      <th>4</th>\n",
       "      <td>تعداد18عددبوقلمون به قیمت عمده</td>\n",
       "      <td>سلام تعدای بوقلمون دارم به علت جابه جایی به فر...</td>\n",
       "      <td>leisure-hobbies</td>\n",
       "    </tr>\n",
       "  </tbody>\n",
       "</table>\n",
       "</div>"
      ],
      "text/plain": [
       "                             title  \\\n",
       "0                     کیف مجلسی نو   \n",
       "1            دیوار کوب نمدی تزیینی   \n",
       "2  دو تیکه بسیار بسیار تمیز و سالم   \n",
       "3                             مودم   \n",
       "4   تعداد18عددبوقلمون به قیمت عمده   \n",
       "\n",
       "                                         description          categories  \n",
       "0                                   کیف مجلسی نوی نو            personal  \n",
       "1                               مناسب برای جهاز عروس        for-the-home  \n",
       "2                                 با کشوی مخفی و شیک        for-the-home  \n",
       "3  سلام مودم سالم با وسایلش،دیگه ب کارم نمیاد \\nم...  electronic-devices  \n",
       "4  سلام تعدای بوقلمون دارم به علت جابه جایی به فر...     leisure-hobbies  "
      ]
     },
     "execution_count": 17,
     "metadata": {},
     "output_type": "execute_result"
    }
   ],
   "source": [
    "test_df = pd.read_csv(\"Data/divar_test.csv\")\n",
    "test_df.head(5)"
   ]
  },
  {
   "cell_type": "markdown",
   "id": "8cca352d",
   "metadata": {},
   "source": [
    "<b>Problems of Naive Bayes:<br></b>\n",
    "In case that there is word occured in only one type of genre, Naive Bayes will definetly choose that genre as the answer which might be wrong in some cases.\n",
    "\n",
    "When word $x$ hasn't appeared in genre $c$, $P(x|c) = 0$ Because $log(0) = - \\infty$ so the sum $ sum_{i=1}^{n} log(P(x_i | c)) $ will converge to $- \\infty$ and never will be chosen as the genre since the algorithm chooses the genre which maximizes the above sum.<br>\n",
    "\n",
    "The aforementioned problem can be solved using <b>additive smoothing</b>[3]. <br>\n",
    "<b>Additive Smoothing:<br></b>\n",
    "Additive smoothing associates the probability\n",
    "\n",
    "$$P(\\frac{WordCount+\\alpha}{TotalWords + \\alpha+D})$$\n",
    "\n",
    "Where $\\alpha$ is a positive constant and $D$ is the number of distinct words in the corresponding category.\n",
    "\n",
    "rather than\n",
    "\n",
    "$$P(\\frac{WordCount}{TotalWords})$$\n",
    "\n",
    "with $P(Word|c)$\n",
    "\n",
    "Without additive smoothing, $\\alpha$ is 0\n",
    "\n",
    "This will avoid the $- \\infty$ problem mentioned in the problem since the fraction will never be equal to 0 because of the positive $\\alpha$ in the numerator.\n",
    "\n",
    "\n",
    "\n",
    "\n",
    "Back to the topic of classifying.<br>\n",
    "Note: We must encode our categories by mapping them to 0 to 5.<br>\n",
    "\n",
    "There are 3 features that we can use for the prediction.\n",
    "\n",
    "<li> Using ad's title\n",
    "\n",
    "<li> Using ad's description\n",
    "\n",
    "<li> Using ad's both title and description\n",
    "    \n",
    "We can assume the last option gives the best accuracy, but we'll check them all out"
   ]
  },
  {
   "cell_type": "code",
   "execution_count": 18,
   "id": "5b1dd64e",
   "metadata": {},
   "outputs": [],
   "source": [
    "# Utility function to calcullate required probabilities\n",
    "from math import log\n",
    "\n",
    "ZERO = 10**-32\n",
    "\n",
    "def calculate_probabilities(sentence, cats_occurance, cats_total, ngrams=1, alpha=0):\n",
    "    # Dictionary to hold category probabilities of a sentence\n",
    "    probs = dict(zip(df['categories'].unique(), [0 for i in range(len(df['categories'].unique()))]))\n",
    "    \n",
    "    for ngram in range(1, ngrams+1):\n",
    "        tokens = remove_stop_words(word_tokenize(sentence))\n",
    "        for i in range(len(tokens) - ngram+1):\n",
    "            words = [lemmatizer.lemmatize(token) for token in tokens[i:i+ngram]]\n",
    "            for ngram_word in words:\n",
    "                if ngram_word == \".\":\n",
    "                    continue\n",
    "\n",
    "                for category in probs.keys():\n",
    "                    D = len(list(cats_occurance[category].keys()))\n",
    "                    if not ngram_word in cats_occurance[category] and alpha==0:\n",
    "                        probs[category] += log(ZERO)\n",
    "                    else:\n",
    "                        probs[category] += log((cats_occurance[category].get(ngram_word, 0) + alpha) / (cats_total[category] + alpha+D))\n",
    "    return probs"
   ]
  },
  {
   "cell_type": "markdown",
   "id": "e484350f",
   "metadata": {},
   "source": [
    "<h3> Phase 3: Testing </h3>\n",
    "Now we'll test our algorithms accuracy and see if we can improve it or not.<br>\n",
    "In order to test it we'll need to check the following criteria:<br>\n",
    "<li> Accuracy<br>\n",
    "    $$\\text{Accuracy} = \\frac{\\text{Correct Detected}}{\\text{Total}}$$<br>\n",
    "    \n",
    "<li> Precision<br>\n",
    "$$\\text{Precision} = \\frac{\\text{Correct Detected Class}}{\\text{All Detected Class}}$$<br>\n",
    "    \n",
    "<li> Recall<br>\n",
    "$$\\text{Recall} = \\frac{\\text{Correct Detected Class}}{\\text{Total Class}}$$<br>\n",
    "  \n",
    "<li> F1<br>\n",
    "$$\\text{F1} = 2\\times\\frac{\\text{Precision}\\times\\text{Recall}}{\\text{Precision}+\\text{Recall}}$$<br>\n",
    "    \n",
    "<br>\n",
    "<b>Why we use both precision and recall in checking the algorithm</b>:<br>\n",
    "    \n",
    "1. If the classifier always predicts personal for an ad's category, the recall value for the class personal will be 100% which will inform us that the model isn't adequate.<br>\n",
    "\n",
    "2. There might be a case that we only have 2 predictions for the personal class out of a total number of 500000 predictions. The probability of making a mistake in two predictions would be so low because we made only 2 predictions. So this might lead to a 100% precision and a low recall because of missing many other instances of personal ads.\n",
    "    \n",
    "    \n",
    "    \n",
    "    \n",
    "<b>F1 Score [5]:<br></b>\n",
    "F1 score is the harmonic mean of Precision and Recall. Therefore, this score takes both false positives and false negatives into account. Intuitively it is not as easy to understand as accuracy, but F1 is usually more useful than accuracy, especially if you have an uneven class distribution. Accuracy works best if false positives and false negatives have similar cost. If the cost of false positives and false negatives are very different, it’s better to look at both Precision and Recall.\n",
    "    \n",
    "    \n",
    "    \n",
    "    \n",
    "<b>Multi-Class Metrics [6]</b>:<br>\n",
    "In this model, we have three different types of averaging methods:<br>\n",
    "    \n",
    "<li> Micro: Calculates F1 by value total true positives, false negatives and false positives no matter the prediction for each label in the dataset.<br>\n",
    "Based on source [8] the formula for calculating micro average is:\n",
    "$$\\text{Micro-F1} = \\frac{\\text{correct_detected}}{\\text{all_detected}}$$\n",
    "<br>\n",
    "\n",
    "<li> Macro: Calculates F1 for each label, and returns the average without considering the proportion for each label in the dataset.<br>\n",
    "$$\\text{Macro-F1} = \\frac{F_{1,1}+\\dots+F_{1,n}}{n}$$\n",
    "<br>\n",
    "\n",
    "<li> Weighted: Calculates F1 for each label, and returns the average considering the proportion for each label in the dataset.<br>\n",
    "$$\\text{Weighted-F1} = P(C_1)F_{1,1}+\\dots+P(C_n)F_{1,n}$$\n",
    "<br>\n",
    "Since our categories are balanced, the result of weighted and macro averages won't be different\n",
    "    \n",
    "    \n",
    "    \n",
    "<br>\n",
    "Now, we'll implement the Naive Bayes model on the test dataframe:"
   ]
  },
  {
   "cell_type": "code",
   "execution_count": 19,
   "id": "2e5ef09e",
   "metadata": {},
   "outputs": [],
   "source": [
    "# Get variables used in getting precision\n",
    "def get_assessment_variables(cats_dict, cats_total, ngrams=1, use=[\"title\"], alpha=0):\n",
    "    wrong_df = pd.DataFrame(columns=['title', 'description', 'categories', 'wrong categories'])\n",
    "    correct_detected_class = dict(zip(df['categories'].unique(), [0 for i in range(len(df['categories'].unique()))]))\n",
    "    all_detected_class = dict(zip(df['categories'].unique(), [0 for i in range(len(df['categories'].unique()))]))\n",
    "    total_class = dict(zip(df['categories'].unique(), [0 for i in range(len(df['categories'].unique()))]))\n",
    "    correct = 0\n",
    "    \n",
    "    for index, row in test_df.iterrows(): # FIX THIS!\n",
    "        probs = calculate_probabilities(' '.join([row[col_name] for col_name in use]), cats_dict, cats_total, ngrams, alpha)\n",
    "\n",
    "        # Predict category using maximum probability\n",
    "        predict = max(probs, key=probs.get)\n",
    "\n",
    "        if (row['categories'] == predict):\n",
    "            correct += 1\n",
    "            correct_detected_class[predict] += 1\n",
    "        else:\n",
    "            name = row.name\n",
    "            row = row.append(pd.Series([predict], index=['wrong categories']))\n",
    "            row = row.rename(name)\n",
    "            wrong_df = wrong_df.append(row)\n",
    "        all_detected_class[predict] += 1\n",
    "        total_class[row['categories']] += 1\n",
    "        \n",
    "    return correct_detected_class, all_detected_class, total_class, correct, wrong_df\n",
    "\n",
    "def print_results(cats_dict, test_df, correct, correct_detected_class, all_detected_class, total_class):\n",
    "    Precision = dict(zip(cats_dict.keys(), [0 for i in range(len(cats_dict.keys()))]))\n",
    "    Recall = dict(zip(cats_dict.keys(), [0 for i in range(len(cats_dict.keys()))]))\n",
    "    F1 = dict(zip(cats_dict.keys(), [0 for i in range(len(cats_dict.keys()))]))\n",
    "    print(\"Accuracy = \", (correct / len(test_df)))\n",
    "    print(\"Precision, Recall, and F1 for the categories are:\")\n",
    "    print()\n",
    "\n",
    "    for category in cats_dict.keys():\n",
    "        Precision[category] = correct_detected_class[category] / all_detected_class[category]\n",
    "        Recall[category] = correct_detected_class[category] / total_class[category]\n",
    "        F1[category] = (2 * Precision[category] * Recall[category]) / (Precision[category] + Recall[category])\n",
    "\n",
    "        print(\"Category \", category)\n",
    "        print(\"Correct Detected Class: \", correct_detected_class[category])\n",
    "        print(\"All Detected Class: \", all_detected_class[category])\n",
    "        print(\"Total Class: \", total_class[category])\n",
    "        print(\"Precision = \", Precision[category])\n",
    "        print(\"Recall = \", Recall[category])\n",
    "        print(\"F1 = \", F1[category])\n",
    "        print()\n",
    "        \n",
    "    print(\"Micro Avg = \", correct/sum(all_detected_class.values()))\n",
    "    print(\"Macro Avg = \", sum(F1.values())/len(cats_dict.keys()))\n",
    "    print(\"Weighted Avg = \", sum([F1[cat]*(total_class[cat]/sum(total_class.values())) for cat in cats_dict.keys()]))"
   ]
  },
  {
   "cell_type": "code",
   "execution_count": 20,
   "id": "2b15aac2",
   "metadata": {},
   "outputs": [
    {
     "name": "stdout",
     "output_type": "stream",
     "text": [
      "{'leisure-hobbies': 0, 'vehicles': 0, 'for-the-home': 0, 'personal': 0, 'electronic-devices': 0, 'businesses': 0}\n",
      "{'leisure-hobbies': {}, 'vehicles': {}, 'for-the-home': {}, 'personal': {}, 'electronic-devices': {}, 'businesses': {}}\n",
      "Results without additive smoothing and title only:\n",
      "\n",
      "Accuracy =  0.8266666666666667\n",
      "Precision, Recall, and F1 for the categories are:\n",
      "\n",
      "Category  leisure-hobbies\n",
      "Correct Detected Class:  249\n",
      "All Detected Class:  323\n",
      "Total Class:  300\n",
      "Precision =  0.7708978328173375\n",
      "Recall =  0.83\n",
      "F1 =  0.7993579454253611\n",
      "\n",
      "Category  vehicles\n",
      "Correct Detected Class:  266\n",
      "All Detected Class:  294\n",
      "Total Class:  300\n",
      "Precision =  0.9047619047619048\n",
      "Recall =  0.8866666666666667\n",
      "F1 =  0.8956228956228958\n",
      "\n",
      "Category  for-the-home\n",
      "Correct Detected Class:  239\n",
      "All Detected Class:  299\n",
      "Total Class:  300\n",
      "Precision =  0.7993311036789298\n",
      "Recall =  0.7966666666666666\n",
      "F1 =  0.7979966611018364\n",
      "\n",
      "Category  personal\n",
      "Correct Detected Class:  258\n",
      "All Detected Class:  297\n",
      "Total Class:  300\n",
      "Precision =  0.8686868686868687\n",
      "Recall =  0.86\n",
      "F1 =  0.864321608040201\n",
      "\n",
      "Category  electronic-devices\n",
      "Correct Detected Class:  260\n",
      "All Detected Class:  291\n",
      "Total Class:  300\n",
      "Precision =  0.8934707903780069\n",
      "Recall =  0.8666666666666667\n",
      "F1 =  0.8798646362098139\n",
      "\n",
      "Category  businesses\n",
      "Correct Detected Class:  216\n",
      "All Detected Class:  296\n",
      "Total Class:  300\n",
      "Precision =  0.7297297297297297\n",
      "Recall =  0.72\n",
      "F1 =  0.7248322147651007\n",
      "\n",
      "Micro Avg =  0.8266666666666667\n",
      "Macro Avg =  0.8269993268608683\n",
      "Weighted Avg =  0.8269993268608682\n"
     ]
    }
   ],
   "source": [
    "# Count words, with ngram=1 and using title feature only\n",
    "use_cols = [\"title\"]\n",
    "cats_dict, cats_total = count_words(use=use_cols)\n",
    "# Calculate assessment variables with ngrams =1, using title column only and no additive smoothing\n",
    "correct_detected_class, all_detected_class, total_class, correct, wrong_df = get_assessment_variables(cats_dict, cats_total, use=use_cols)\n",
    "\n",
    "print(\"Results without additive smoothing and title only:\")\n",
    "print()\n",
    "print_results(cats_dict, test_df, correct, correct_detected_class, all_detected_class, total_class)"
   ]
  },
  {
   "cell_type": "markdown",
   "id": "7c8deff6",
   "metadata": {},
   "source": [
    "We're close but not quite there, notice that the business category, leisure-hobbies and for-the-home category are the worst of the bunch.<br>\n",
    "Now, let's check the results with additive smoothing and $\\alpha = 1$:"
   ]
  },
  {
   "cell_type": "code",
   "execution_count": 21,
   "id": "70dfdc23",
   "metadata": {},
   "outputs": [
    {
     "name": "stdout",
     "output_type": "stream",
     "text": [
      "{'leisure-hobbies': 0, 'vehicles': 0, 'for-the-home': 0, 'personal': 0, 'electronic-devices': 0, 'businesses': 0}\n",
      "{'leisure-hobbies': {}, 'vehicles': {}, 'for-the-home': {}, 'personal': {}, 'electronic-devices': {}, 'businesses': {}}\n",
      "Results with additive smoothing and title only:\n",
      "\n",
      "Accuracy =  0.8155555555555556\n",
      "Precision, Recall, and F1 for the categories are:\n",
      "\n",
      "Category  leisure-hobbies\n",
      "Correct Detected Class:  230\n",
      "All Detected Class:  263\n",
      "Total Class:  300\n",
      "Precision =  0.8745247148288974\n",
      "Recall =  0.7666666666666667\n",
      "F1 =  0.8170515097690942\n",
      "\n",
      "Category  vehicles\n",
      "Correct Detected Class:  257\n",
      "All Detected Class:  293\n",
      "Total Class:  300\n",
      "Precision =  0.8771331058020477\n",
      "Recall =  0.8566666666666667\n",
      "F1 =  0.866779089376054\n",
      "\n",
      "Category  for-the-home\n",
      "Correct Detected Class:  261\n",
      "All Detected Class:  386\n",
      "Total Class:  300\n",
      "Precision =  0.6761658031088082\n",
      "Recall =  0.87\n",
      "F1 =  0.760932944606414\n",
      "\n",
      "Category  personal\n",
      "Correct Detected Class:  262\n",
      "All Detected Class:  309\n",
      "Total Class:  300\n",
      "Precision =  0.8478964401294499\n",
      "Recall =  0.8733333333333333\n",
      "F1 =  0.8604269293924466\n",
      "\n",
      "Category  electronic-devices\n",
      "Correct Detected Class:  252\n",
      "All Detected Class:  277\n",
      "Total Class:  300\n",
      "Precision =  0.9097472924187726\n",
      "Recall =  0.84\n",
      "F1 =  0.8734835355285963\n",
      "\n",
      "Category  businesses\n",
      "Correct Detected Class:  206\n",
      "All Detected Class:  272\n",
      "Total Class:  300\n",
      "Precision =  0.7573529411764706\n",
      "Recall =  0.6866666666666666\n",
      "F1 =  0.7202797202797203\n",
      "\n",
      "Micro Avg =  0.8155555555555556\n",
      "Macro Avg =  0.8164922881587208\n",
      "Weighted Avg =  0.8164922881587209\n"
     ]
    }
   ],
   "source": [
    "# Count words, with ngram=1 and using title feature only =\n",
    "use_cols = [\"title\"]\n",
    "cats_dict, cats_total = count_words(use=use_cols)\n",
    "# Calculate assessment variables with ngrams=1, using title column only this time with additive smoothing\n",
    "correct_detected_class, all_detected_class, total_class, correct, wrong_df = get_assessment_variables(cats_dict, cats_total, alpha=1, use=use_cols)\n",
    "\n",
    "print(\"Results with additive smoothing and title only:\")\n",
    "print()\n",
    "print_results(cats_dict, test_df, correct, correct_detected_class, all_detected_class, total_class)"
   ]
  },
  {
   "cell_type": "markdown",
   "id": "4e05c385",
   "metadata": {},
   "source": [
    "Strange, usually with the addition of additive smoothing to our equation, the accuracy increases. But in this case it decreases. The reasin behind this is....<br>\n",
    "Also, note that this time, only business and for-the-home categories are the least accurate ones. This conclusion is based on their F1 score."
   ]
  },
  {
   "cell_type": "code",
   "execution_count": 22,
   "id": "15843f4d",
   "metadata": {},
   "outputs": [
    {
     "name": "stdout",
     "output_type": "stream",
     "text": [
      "{'leisure-hobbies': 0, 'vehicles': 0, 'for-the-home': 0, 'personal': 0, 'electronic-devices': 0, 'businesses': 0}\n",
      "{'leisure-hobbies': {}, 'vehicles': {}, 'for-the-home': {}, 'personal': {}, 'electronic-devices': {}, 'businesses': {}}\n",
      "Results without additive smoothing and description only:\n",
      "\n",
      "Accuracy =  0.735\n",
      "Precision, Recall, and F1 for the categories are:\n",
      "\n",
      "Category  leisure-hobbies\n",
      "Correct Detected Class:  230\n",
      "All Detected Class:  301\n",
      "Total Class:  300\n",
      "Precision =  0.7641196013289037\n",
      "Recall =  0.7666666666666667\n",
      "F1 =  0.7653910149750416\n",
      "\n",
      "Category  vehicles\n",
      "Correct Detected Class:  236\n",
      "All Detected Class:  286\n",
      "Total Class:  300\n",
      "Precision =  0.8251748251748252\n",
      "Recall =  0.7866666666666666\n",
      "F1 =  0.8054607508532423\n",
      "\n",
      "Category  for-the-home\n",
      "Correct Detected Class:  196\n",
      "All Detected Class:  289\n",
      "Total Class:  300\n",
      "Precision =  0.6782006920415224\n",
      "Recall =  0.6533333333333333\n",
      "F1 =  0.66553480475382\n",
      "\n",
      "Category  personal\n",
      "Correct Detected Class:  214\n",
      "All Detected Class:  284\n",
      "Total Class:  300\n",
      "Precision =  0.7535211267605634\n",
      "Recall =  0.7133333333333334\n",
      "F1 =  0.732876712328767\n",
      "\n",
      "Category  electronic-devices\n",
      "Correct Detected Class:  235\n",
      "All Detected Class:  307\n",
      "Total Class:  300\n",
      "Precision =  0.7654723127035831\n",
      "Recall =  0.7833333333333333\n",
      "F1 =  0.7742998352553543\n",
      "\n",
      "Category  businesses\n",
      "Correct Detected Class:  212\n",
      "All Detected Class:  333\n",
      "Total Class:  300\n",
      "Precision =  0.6366366366366366\n",
      "Recall =  0.7066666666666667\n",
      "F1 =  0.669826224328594\n",
      "\n",
      "Micro Avg =  0.735\n",
      "Macro Avg =  0.7355648904158031\n",
      "Weighted Avg =  0.7355648904158032\n"
     ]
    }
   ],
   "source": [
    "# Count words, with ngram=1 and using description feature only\n",
    "use_cols = [\"description\"]\n",
    "cats_dict, cats_total = count_words(use=use_cols)\n",
    "# Calculate assessment variables with ngrams=1, using description column only with no additive smoothing\n",
    "correct_detected_class, all_detected_class, total_class, correct, wrong_df = get_assessment_variables(cats_dict, cats_total, use=use_cols)\n",
    "\n",
    "print(\"Results without additive smoothing and description only:\")\n",
    "print()\n",
    "print_results(cats_dict, test_df, correct, correct_detected_class, all_detected_class, total_class)"
   ]
  },
  {
   "cell_type": "code",
   "execution_count": 23,
   "id": "7e673550",
   "metadata": {},
   "outputs": [
    {
     "name": "stdout",
     "output_type": "stream",
     "text": [
      "{'leisure-hobbies': 0, 'vehicles': 0, 'for-the-home': 0, 'personal': 0, 'electronic-devices': 0, 'businesses': 0}\n",
      "{'leisure-hobbies': {}, 'vehicles': {}, 'for-the-home': {}, 'personal': {}, 'electronic-devices': {}, 'businesses': {}}\n",
      "Results with additive smoothing and description only:\n",
      "\n",
      "Accuracy =  0.7572222222222222\n",
      "Precision, Recall, and F1 for the categories are:\n",
      "\n",
      "Category  leisure-hobbies\n",
      "Correct Detected Class:  214\n",
      "All Detected Class:  247\n",
      "Total Class:  300\n",
      "Precision =  0.8663967611336032\n",
      "Recall =  0.7133333333333334\n",
      "F1 =  0.7824497257769654\n",
      "\n",
      "Category  vehicles\n",
      "Correct Detected Class:  245\n",
      "All Detected Class:  287\n",
      "Total Class:  300\n",
      "Precision =  0.8536585365853658\n",
      "Recall =  0.8166666666666667\n",
      "F1 =  0.8347529812606473\n",
      "\n",
      "Category  for-the-home\n",
      "Correct Detected Class:  234\n",
      "All Detected Class:  385\n",
      "Total Class:  300\n",
      "Precision =  0.6077922077922078\n",
      "Recall =  0.78\n",
      "F1 =  0.6832116788321169\n",
      "\n",
      "Category  personal\n",
      "Correct Detected Class:  234\n",
      "All Detected Class:  321\n",
      "Total Class:  300\n",
      "Precision =  0.7289719626168224\n",
      "Recall =  0.78\n",
      "F1 =  0.7536231884057971\n",
      "\n",
      "Category  electronic-devices\n",
      "Correct Detected Class:  240\n",
      "All Detected Class:  285\n",
      "Total Class:  300\n",
      "Precision =  0.8421052631578947\n",
      "Recall =  0.8\n",
      "F1 =  0.8205128205128205\n",
      "\n",
      "Category  businesses\n",
      "Correct Detected Class:  196\n",
      "All Detected Class:  275\n",
      "Total Class:  300\n",
      "Precision =  0.7127272727272728\n",
      "Recall =  0.6533333333333333\n",
      "F1 =  0.6817391304347825\n",
      "\n",
      "Micro Avg =  0.7572222222222222\n",
      "Macro Avg =  0.7593815875371882\n",
      "Weighted Avg =  0.7593815875371882\n"
     ]
    }
   ],
   "source": [
    "# Count words, with ngram=1 and using description feature onl\n",
    "use_cols = [\"description\"]\n",
    "cats_dict, cats_total = count_words(use=use_cols)\n",
    "# Calculate assessment variables with ngrams=1, using description column only this time with additive smoothing\n",
    "correct_detected_class, all_detected_class, total_class, correct, wrong_df = get_assessment_variables(cats_dict, cats_total, alpha=1, use=use_cols)\n",
    "\n",
    "print(\"Results with additive smoothing and description only:\")\n",
    "print()\n",
    "print_results(cats_dict, test_df, correct, correct_detected_class, all_detected_class, total_class)"
   ]
  },
  {
   "cell_type": "markdown",
   "id": "53d8467f",
   "metadata": {},
   "source": [
    "As you can see, we don't have a good accuracy for any of the above approaches.<br>\n",
    "Using the description feature, things got even worse!<br>\n",
    "Let's try both title and decription together and see the results:"
   ]
  },
  {
   "cell_type": "code",
   "execution_count": 24,
   "id": "9e709349",
   "metadata": {},
   "outputs": [
    {
     "name": "stdout",
     "output_type": "stream",
     "text": [
      "{'leisure-hobbies': 0, 'vehicles': 0, 'for-the-home': 0, 'personal': 0, 'electronic-devices': 0, 'businesses': 0}\n",
      "{'leisure-hobbies': {}, 'vehicles': {}, 'for-the-home': {}, 'personal': {}, 'electronic-devices': {}, 'businesses': {}}\n",
      "Results without additive smoothing and description only:\n",
      "\n",
      "Accuracy =  0.8305555555555556\n",
      "Precision, Recall, and F1 for the categories are:\n",
      "\n",
      "Category  leisure-hobbies\n",
      "Correct Detected Class:  248\n",
      "All Detected Class:  292\n",
      "Total Class:  300\n",
      "Precision =  0.8493150684931506\n",
      "Recall =  0.8266666666666667\n",
      "F1 =  0.8378378378378378\n",
      "\n",
      "Category  vehicles\n",
      "Correct Detected Class:  266\n",
      "All Detected Class:  295\n",
      "Total Class:  300\n",
      "Precision =  0.9016949152542373\n",
      "Recall =  0.8866666666666667\n",
      "F1 =  0.8941176470588236\n",
      "\n",
      "Category  for-the-home\n",
      "Correct Detected Class:  233\n",
      "All Detected Class:  287\n",
      "Total Class:  300\n",
      "Precision =  0.8118466898954704\n",
      "Recall =  0.7766666666666666\n",
      "F1 =  0.7938671209540034\n",
      "\n",
      "Category  personal\n",
      "Correct Detected Class:  251\n",
      "All Detected Class:  290\n",
      "Total Class:  300\n",
      "Precision =  0.8655172413793103\n",
      "Recall =  0.8366666666666667\n",
      "F1 =  0.8508474576271187\n",
      "\n",
      "Category  electronic-devices\n",
      "Correct Detected Class:  265\n",
      "All Detected Class:  301\n",
      "Total Class:  300\n",
      "Precision =  0.8803986710963455\n",
      "Recall =  0.8833333333333333\n",
      "F1 =  0.881863560732113\n",
      "\n",
      "Category  businesses\n",
      "Correct Detected Class:  232\n",
      "All Detected Class:  335\n",
      "Total Class:  300\n",
      "Precision =  0.6925373134328359\n",
      "Recall =  0.7733333333333333\n",
      "F1 =  0.7307086614173228\n",
      "\n",
      "Micro Avg =  0.8305555555555556\n",
      "Macro Avg =  0.8315403809378697\n",
      "Weighted Avg =  0.8315403809378699\n"
     ]
    }
   ],
   "source": [
    "# Count words, with ngram=1 and using description and title\n",
    "use_cols = [\"title\", \"description\"]\n",
    "cats_dict, cats_total = count_words(use=use_cols)\n",
    "# Calculate assessment variables with ngrams=1, using title and description columns with no additive smoothing\n",
    "correct_detected_class, all_detected_class, total_class, correct, wrong_df = get_assessment_variables(cats_dict, cats_total, use=use_cols)\n",
    "\n",
    "print(\"Results without additive smoothing and description only:\")\n",
    "print()\n",
    "print_results(cats_dict, test_df, correct, correct_detected_class, all_detected_class, total_class)"
   ]
  },
  {
   "cell_type": "markdown",
   "id": "076c1835",
   "metadata": {},
   "source": [
    "This looks promising.<br>\n",
    "What if we use additive smoothing?"
   ]
  },
  {
   "cell_type": "code",
   "execution_count": 25,
   "id": "b064a95e",
   "metadata": {},
   "outputs": [
    {
     "name": "stdout",
     "output_type": "stream",
     "text": [
      "{'leisure-hobbies': 0, 'vehicles': 0, 'for-the-home': 0, 'personal': 0, 'electronic-devices': 0, 'businesses': 0}\n",
      "{'leisure-hobbies': {}, 'vehicles': {}, 'for-the-home': {}, 'personal': {}, 'electronic-devices': {}, 'businesses': {}}\n",
      "Results with additive smoothing and description only:\n",
      "\n",
      "Accuracy =  0.8666666666666667\n",
      "Precision, Recall, and F1 for the categories are:\n",
      "\n",
      "Category  leisure-hobbies\n",
      "Correct Detected Class:  248\n",
      "All Detected Class:  268\n",
      "Total Class:  300\n",
      "Precision =  0.9253731343283582\n",
      "Recall =  0.8266666666666667\n",
      "F1 =  0.8732394366197183\n",
      "\n",
      "Category  vehicles\n",
      "Correct Detected Class:  272\n",
      "All Detected Class:  289\n",
      "Total Class:  300\n",
      "Precision =  0.9411764705882353\n",
      "Recall =  0.9066666666666666\n",
      "F1 =  0.9235993208828523\n",
      "\n",
      "Category  for-the-home\n",
      "Correct Detected Class:  269\n",
      "All Detected Class:  350\n",
      "Total Class:  300\n",
      "Precision =  0.7685714285714286\n",
      "Recall =  0.8966666666666666\n",
      "F1 =  0.8276923076923077\n",
      "\n",
      "Category  personal\n",
      "Correct Detected Class:  272\n",
      "All Detected Class:  315\n",
      "Total Class:  300\n",
      "Precision =  0.8634920634920635\n",
      "Recall =  0.9066666666666666\n",
      "F1 =  0.8845528455284553\n",
      "\n",
      "Category  electronic-devices\n",
      "Correct Detected Class:  274\n",
      "All Detected Class:  295\n",
      "Total Class:  300\n",
      "Precision =  0.9288135593220339\n",
      "Recall =  0.9133333333333333\n",
      "F1 =  0.9210084033613445\n",
      "\n",
      "Category  businesses\n",
      "Correct Detected Class:  225\n",
      "All Detected Class:  283\n",
      "Total Class:  300\n",
      "Precision =  0.7950530035335689\n",
      "Recall =  0.75\n",
      "F1 =  0.7718696397941682\n",
      "\n",
      "Micro Avg =  0.8666666666666667\n",
      "Macro Avg =  0.8669936589798078\n",
      "Weighted Avg =  0.8669936589798077\n"
     ]
    }
   ],
   "source": [
    "# Count words, with ngram=1 and using description and title\n",
    "use_cols = [\"title\", \"description\"]\n",
    "cats_dict, cats_total = count_words(use=use_cols)\n",
    "# Calculate assessment variables with ngrams=1, using title and description columns with additive smoothing\n",
    "correct_detected_class, all_detected_class, total_class, correct, wrong_df = get_assessment_variables(cats_dict, cats_total, alpha=1, use=use_cols)\n",
    "\n",
    "print(\"Results with additive smoothing and description only:\")\n",
    "print()\n",
    "print_results(cats_dict, test_df, correct, correct_detected_class, all_detected_class, total_class)"
   ]
  },
  {
   "cell_type": "markdown",
   "id": "1089d299",
   "metadata": {},
   "source": [
    "This is great!<br>\n",
    "Let's try to decrease $\\alpha$. Based on source[3], $\\alpha < 1$ is used more often in practice.<br>\n",
    "Note: Read more about additive smoothing and the reason behind choosing the best $\\alpha$ <a href=\"https://www.analyticsvidhya.com/blog/2021/04/improve-naive-bayes-text-classifier-using-laplace-smoothing/\">here</a>."
   ]
  },
  {
   "cell_type": "code",
   "execution_count": 26,
   "id": "5cb8aa27",
   "metadata": {
    "scrolled": false
   },
   "outputs": [
    {
     "name": "stdout",
     "output_type": "stream",
     "text": [
      "{'leisure-hobbies': 0, 'vehicles': 0, 'for-the-home': 0, 'personal': 0, 'electronic-devices': 0, 'businesses': 0}\n",
      "{'leisure-hobbies': {}, 'vehicles': {}, 'for-the-home': {}, 'personal': {}, 'electronic-devices': {}, 'businesses': {}}\n"
     ]
    }
   ],
   "source": [
    "# Count words, with ngram=1 and using description and title\n",
    "use_cols = [\"title\", \"description\"]\n",
    "cats_dict, cats_total = count_words(use=use_cols)"
   ]
  },
  {
   "cell_type": "code",
   "execution_count": 27,
   "id": "0c971306",
   "metadata": {},
   "outputs": [
    {
     "name": "stdout",
     "output_type": "stream",
     "text": [
      "Results with additive smoothing and description only:\n",
      "\n",
      "Accuracy =  0.8716666666666667\n",
      "Precision, Recall, and F1 for the categories are:\n",
      "\n",
      "Category  leisure-hobbies\n",
      "Correct Detected Class:  251\n",
      "All Detected Class:  269\n",
      "Total Class:  300\n",
      "Precision =  0.9330855018587361\n",
      "Recall =  0.8366666666666667\n",
      "F1 =  0.8822495606326889\n",
      "\n",
      "Category  vehicles\n",
      "Correct Detected Class:  273\n",
      "All Detected Class:  290\n",
      "Total Class:  300\n",
      "Precision =  0.9413793103448276\n",
      "Recall =  0.91\n",
      "F1 =  0.9254237288135593\n",
      "\n",
      "Category  for-the-home\n",
      "Correct Detected Class:  267\n",
      "All Detected Class:  339\n",
      "Total Class:  300\n",
      "Precision =  0.7876106194690266\n",
      "Recall =  0.89\n",
      "F1 =  0.8356807511737089\n",
      "\n",
      "Category  personal\n",
      "Correct Detected Class:  270\n",
      "All Detected Class:  311\n",
      "Total Class:  300\n",
      "Precision =  0.8681672025723473\n",
      "Recall =  0.9\n",
      "F1 =  0.8837970540098199\n",
      "\n",
      "Category  electronic-devices\n",
      "Correct Detected Class:  275\n",
      "All Detected Class:  296\n",
      "Total Class:  300\n",
      "Precision =  0.9290540540540541\n",
      "Recall =  0.9166666666666666\n",
      "F1 =  0.9228187919463087\n",
      "\n",
      "Category  businesses\n",
      "Correct Detected Class:  233\n",
      "All Detected Class:  295\n",
      "Total Class:  300\n",
      "Precision =  0.7898305084745763\n",
      "Recall =  0.7766666666666666\n",
      "F1 =  0.7831932773109244\n",
      "\n",
      "Micro Avg =  0.8716666666666667\n",
      "Macro Avg =  0.872193860647835\n",
      "Weighted Avg =  0.8721938606478349\n"
     ]
    }
   ],
   "source": [
    "# Calculate assessment variables with ngrams=1, using title and description columns with additive smoothing\n",
    "correct_detected_class, all_detected_class, total_class, correct, wrong_df = get_assessment_variables(cats_dict, cats_total, alpha=0.5, use=use_cols)\n",
    "\n",
    "print(\"Results with additive smoothing and description only:\")\n",
    "print()\n",
    "print_results(cats_dict, test_df, correct, correct_detected_class, all_detected_class, total_class)"
   ]
  },
  {
   "cell_type": "markdown",
   "id": "db2f79e5",
   "metadata": {},
   "source": [
    "The accuracy is increased even more. So there must be a perfect $\\alpha$ where we'll get the highest accuracy increase using additive smoothing.<br>\n",
    "\n",
    "\n",
    "Now, let's check out some of our wrong predictions:<br>\n"
   ]
  },
  {
   "cell_type": "code",
   "execution_count": 28,
   "id": "65708b65",
   "metadata": {
    "scrolled": true
   },
   "outputs": [
    {
     "data": {
      "text/html": [
       "<div>\n",
       "<style scoped>\n",
       "    .dataframe tbody tr th:only-of-type {\n",
       "        vertical-align: middle;\n",
       "    }\n",
       "\n",
       "    .dataframe tbody tr th {\n",
       "        vertical-align: top;\n",
       "    }\n",
       "\n",
       "    .dataframe thead th {\n",
       "        text-align: right;\n",
       "    }\n",
       "</style>\n",
       "<table border=\"1\" class=\"dataframe\">\n",
       "  <thead>\n",
       "    <tr style=\"text-align: right;\">\n",
       "      <th></th>\n",
       "      <th>title</th>\n",
       "      <th>description</th>\n",
       "      <th>categories</th>\n",
       "      <th>wrong categories</th>\n",
       "    </tr>\n",
       "  </thead>\n",
       "  <tbody>\n",
       "    <tr>\n",
       "      <th>16</th>\n",
       "      <td>سیپوراکس</td>\n",
       "      <td>سیپوراکس میکرو مک جی بی ال و سرامیک سرا ، کاهن...</td>\n",
       "      <td>leisure-hobbies</td>\n",
       "      <td>for-the-home</td>\n",
       "    </tr>\n",
       "    <tr>\n",
       "      <th>28</th>\n",
       "      <td>موتور تزیینی</td>\n",
       "      <td>از جنس اهن کار دست عرضه به صورت عمده و تکی</td>\n",
       "      <td>for-the-home</td>\n",
       "      <td>businesses</td>\n",
       "    </tr>\n",
       "    <tr>\n",
       "      <th>37</th>\n",
       "      <td>90عدد بشقاب پیتزا تک نفره قیمت هرعدد 4000</td>\n",
       "      <td>بشقاب پیتزا یک نفره عددی 4000 باتشکراز دیوار.</td>\n",
       "      <td>businesses</td>\n",
       "      <td>for-the-home</td>\n",
       "    </tr>\n",
       "    <tr>\n",
       "      <th>49</th>\n",
       "      <td>اچارشلاقی HEYCOالمان</td>\n",
       "      <td>اصل المان \\nسایز ۱/۵\\nبسیار مقاوم</td>\n",
       "      <td>businesses</td>\n",
       "      <td>personal</td>\n",
       "    </tr>\n",
       "    <tr>\n",
       "      <th>50</th>\n",
       "      <td>فروش تلفکس</td>\n",
       "      <td>سلام.تلفکس پاناسونیک.تمیز و کم کار</td>\n",
       "      <td>businesses</td>\n",
       "      <td>electronic-devices</td>\n",
       "    </tr>\n",
       "    <tr>\n",
       "      <th>...</th>\n",
       "      <td>...</td>\n",
       "      <td>...</td>\n",
       "      <td>...</td>\n",
       "      <td>...</td>\n",
       "    </tr>\n",
       "    <tr>\n",
       "      <th>1762</th>\n",
       "      <td>سشوار صنعتی متابو اصل</td>\n",
       "      <td>متابو اصل سالم</td>\n",
       "      <td>businesses</td>\n",
       "      <td>personal</td>\n",
       "    </tr>\n",
       "    <tr>\n",
       "      <th>1768</th>\n",
       "      <td>فکس T...Come ، تی کام اصل آلمان</td>\n",
       "      <td>فکس T... Come اصل ... در منزل استفاده شده . نو...</td>\n",
       "      <td>businesses</td>\n",
       "      <td>electronic-devices</td>\n",
       "    </tr>\n",
       "    <tr>\n",
       "      <th>1770</th>\n",
       "      <td>دو قواره پارچه چادری3/5متری</td>\n",
       "      <td>دو قواره پارچه چادر 3/5متری مناسب برای عیدی دا...</td>\n",
       "      <td>personal</td>\n",
       "      <td>for-the-home</td>\n",
       "    </tr>\n",
       "    <tr>\n",
       "      <th>1771</th>\n",
       "      <td>زیر پایی</td>\n",
       "      <td>باسلام فروش زیر پایی  کاسه ای کاملاً نوع وتازه...</td>\n",
       "      <td>vehicles</td>\n",
       "      <td>for-the-home</td>\n",
       "    </tr>\n",
       "    <tr>\n",
       "      <th>1795</th>\n",
       "      <td>باسکول 300کیلویی</td>\n",
       "      <td>سالمه سالمه بشرط\\nقیمت نوش داخل بازار600تومنه</td>\n",
       "      <td>businesses</td>\n",
       "      <td>for-the-home</td>\n",
       "    </tr>\n",
       "  </tbody>\n",
       "</table>\n",
       "<p>231 rows × 4 columns</p>\n",
       "</div>"
      ],
      "text/plain": [
       "                                          title  \\\n",
       "16                                     سیپوراکس   \n",
       "28                                 موتور تزیینی   \n",
       "37    90عدد بشقاب پیتزا تک نفره قیمت هرعدد 4000   \n",
       "49                         اچارشلاقی HEYCOالمان   \n",
       "50                                   فروش تلفکس   \n",
       "...                                         ...   \n",
       "1762                      سشوار صنعتی متابو اصل   \n",
       "1768            فکس T...Come ، تی کام اصل آلمان   \n",
       "1770                دو قواره پارچه چادری3/5متری   \n",
       "1771                                   زیر پایی   \n",
       "1795                           باسکول 300کیلویی   \n",
       "\n",
       "                                            description       categories  \\\n",
       "16    سیپوراکس میکرو مک جی بی ال و سرامیک سرا ، کاهن...  leisure-hobbies   \n",
       "28           از جنس اهن کار دست عرضه به صورت عمده و تکی     for-the-home   \n",
       "37        بشقاب پیتزا یک نفره عددی 4000 باتشکراز دیوار.       businesses   \n",
       "49                    اصل المان \\nسایز ۱/۵\\nبسیار مقاوم       businesses   \n",
       "50                   سلام.تلفکس پاناسونیک.تمیز و کم کار       businesses   \n",
       "...                                                 ...              ...   \n",
       "1762                                     متابو اصل سالم       businesses   \n",
       "1768  فکس T... Come اصل ... در منزل استفاده شده . نو...       businesses   \n",
       "1770  دو قواره پارچه چادر 3/5متری مناسب برای عیدی دا...         personal   \n",
       "1771  باسلام فروش زیر پایی  کاسه ای کاملاً نوع وتازه...         vehicles   \n",
       "1795      سالمه سالمه بشرط\\nقیمت نوش داخل بازار600تومنه       businesses   \n",
       "\n",
       "        wrong categories  \n",
       "16          for-the-home  \n",
       "28            businesses  \n",
       "37          for-the-home  \n",
       "49              personal  \n",
       "50    electronic-devices  \n",
       "...                  ...  \n",
       "1762            personal  \n",
       "1768  electronic-devices  \n",
       "1770        for-the-home  \n",
       "1771        for-the-home  \n",
       "1795        for-the-home  \n",
       "\n",
       "[231 rows x 4 columns]"
      ]
     },
     "execution_count": 28,
     "metadata": {},
     "output_type": "execute_result"
    }
   ],
   "source": [
    "wrong_df"
   ]
  },
  {
   "cell_type": "markdown",
   "id": "74ef5105",
   "metadata": {},
   "source": [
    "As mentioned before, most of our errors are related to for-the-home and business categories. This is partially because of our pre processing and the nature of these two categories. If we take a look at the most occured words in these two categories, we'll see that these two have the most number of words that have occured in other categories which is one of the reasons why they are the least accurate. So we might fix our pre processing by adding more stop words or checking some other features. Also, some characters aren't removed like '\\n'.<br>\n",
    "\n",
    "\n",
    "\n",
    "<h3> Bonus: </h3>\n",
    "\n",
    "Let's try another approach. This time instead of using unigram model only, we'll use unigram and bigram words to classify our advertisements.<br>"
   ]
  },
  {
   "cell_type": "code",
   "execution_count": 31,
   "id": "ba68dcfc",
   "metadata": {},
   "outputs": [
    {
     "name": "stdout",
     "output_type": "stream",
     "text": [
      "{'leisure-hobbies': 0, 'vehicles': 0, 'for-the-home': 0, 'personal': 0, 'electronic-devices': 0, 'businesses': 0}\n",
      "{'leisure-hobbies': {}, 'vehicles': {}, 'for-the-home': {}, 'personal': {}, 'electronic-devices': {}, 'businesses': {}}\n"
     ]
    }
   ],
   "source": [
    "# Count words, with ngram=1 and using description and title\n",
    "use_cols = [\"title\", \"description\"]\n",
    "cats_dict, cats_total = count_words(ngrams=2, use=use_cols)"
   ]
  },
  {
   "cell_type": "code",
   "execution_count": 32,
   "id": "cf654293",
   "metadata": {},
   "outputs": [
    {
     "name": "stdout",
     "output_type": "stream",
     "text": [
      "Results with additive smoothing and description only:\n",
      "\n",
      "Accuracy =  0.8661111111111112\n",
      "Precision, Recall, and F1 for the categories are:\n",
      "\n",
      "Category  leisure-hobbies\n",
      "Correct Detected Class:  250\n",
      "All Detected Class:  268\n",
      "Total Class:  300\n",
      "Precision =  0.9328358208955224\n",
      "Recall =  0.8333333333333334\n",
      "F1 =  0.8802816901408451\n",
      "\n",
      "Category  vehicles\n",
      "Correct Detected Class:  273\n",
      "All Detected Class:  291\n",
      "Total Class:  300\n",
      "Precision =  0.9381443298969072\n",
      "Recall =  0.91\n",
      "F1 =  0.9238578680203046\n",
      "\n",
      "Category  for-the-home\n",
      "Correct Detected Class:  267\n",
      "All Detected Class:  342\n",
      "Total Class:  300\n",
      "Precision =  0.7807017543859649\n",
      "Recall =  0.89\n",
      "F1 =  0.8317757009345794\n",
      "\n",
      "Category  personal\n",
      "Correct Detected Class:  267\n",
      "All Detected Class:  309\n",
      "Total Class:  300\n",
      "Precision =  0.8640776699029126\n",
      "Recall =  0.89\n",
      "F1 =  0.8768472906403941\n",
      "\n",
      "Category  electronic-devices\n",
      "Correct Detected Class:  271\n",
      "All Detected Class:  294\n",
      "Total Class:  300\n",
      "Precision =  0.9217687074829932\n",
      "Recall =  0.9033333333333333\n",
      "F1 =  0.9124579124579124\n",
      "\n",
      "Category  businesses\n",
      "Correct Detected Class:  231\n",
      "All Detected Class:  296\n",
      "Total Class:  300\n",
      "Precision =  0.7804054054054054\n",
      "Recall =  0.77\n",
      "F1 =  0.7751677852348994\n",
      "\n",
      "Micro Avg =  0.8661111111111112\n",
      "Macro Avg =  0.8667313745714891\n",
      "Weighted Avg =  0.8667313745714891\n"
     ]
    }
   ],
   "source": [
    "# Calculate assessment variables with ngrams=1, using title and description columns with additive smoothing\n",
    "correct_detected_class, all_detected_class, total_class, correct, wrong_df = get_assessment_variables(cats_dict, cats_total, ngrams=2, alpha=0.5, use=use_cols)\n",
    "\n",
    "print(\"Results with additive smoothing and description only:\")\n",
    "print()\n",
    "print_results(cats_dict, test_df, correct, correct_detected_class, all_detected_class, total_class)"
   ]
  },
  {
   "cell_type": "markdown",
   "id": "6c53d204",
   "metadata": {},
   "source": [
    "<h3>References:</h3><br><br>\n",
    "[1] https://towardsdatascience.com/feature-engineering-for-machine-learning-3a5e293a5114<br>\n",
    "[2] https://www.sciencedirect.com/science/article/pii/S1319157818303823<br>\n",
    "[3] https://en.wikipedia.org/wiki/Additive_smoothing<br>\n",
    "[4] https://medium.com/@amirashabani/pie-chart-and-persian-language-in-python-68dfd03a26fb<br>\n",
    "[5] https://blog.exsilio.com/all/accuracy-precision-recall-f1-score-interpretation-of-performance-measures/<br>\n",
    "[6] https://towardsdatascience.com/multi-class-metrics-made-simple-part-ii-the-f1-score-ebe8b2c2ca1<br>\n",
    "[7] https://www.researchgate.net/publication/221420084_Effective_Methods_for_Improving_Naive_Bayes_Text_Classifiers<br>\n",
    "[8] https://androidkt.com/micro-macro-averages-for-imbalance-multiclass-classification/<br>\n",
    "[9] https://github.com/kharazi/persian-stopwords<br>\n"
   ]
  },
  {
   "cell_type": "code",
   "execution_count": null,
   "id": "9584c184",
   "metadata": {},
   "outputs": [],
   "source": []
  }
 ],
 "metadata": {
  "kernelspec": {
   "display_name": "Python 3 (ipykernel)",
   "language": "python",
   "name": "python3"
  },
  "language_info": {
   "codemirror_mode": {
    "name": "ipython",
    "version": 3
   },
   "file_extension": ".py",
   "mimetype": "text/x-python",
   "name": "python",
   "nbconvert_exporter": "python",
   "pygments_lexer": "ipython3",
   "version": "3.9.7"
  }
 },
 "nbformat": 4,
 "nbformat_minor": 5
}
